{
  "nbformat": 4,
  "nbformat_minor": 0,
  "metadata": {
    "colab": {
      "provenance": []
    },
    "kernelspec": {
      "name": "python3",
      "display_name": "Python 3"
    },
    "language_info": {
      "name": "python"
    }
  },
  "cells": [
    {
      "cell_type": "code",
      "execution_count": 2,
      "metadata": {
        "colab": {
          "base_uri": "https://localhost:8080/"
        },
        "id": "oTOIz_xlqRcT",
        "outputId": "2b261b70-5112-403e-b142-53f4501a468f"
      },
      "outputs": [
        {
          "output_type": "stream",
          "name": "stdout",
          "text": [
            "[1, 1, 2, 3, 4, 4, 5, 6]\n",
            "[]\n",
            "[]\n",
            "[1]\n",
            "[-1, 5, 6, 10, 11]\n"
          ]
        }
      ],
      "source": [
        "import heapq\n",
        "\n",
        "class ListNode:\n",
        "    def __init__(self, val=0, next=None):\n",
        "        self.val = val\n",
        "        self.next = next\n",
        "\n",
        "# convert a list to a linked list\n",
        "def list_to_linked_list(nums):\n",
        "    if not nums:\n",
        "        return None\n",
        "    dummy = ListNode(0)\n",
        "    current = dummy\n",
        "    for num in nums:\n",
        "        current.next = ListNode(num)\n",
        "        current = current.next\n",
        "    return dummy.next\n",
        "\n",
        "# convert a linked list to a list\n",
        "def linked_list_to_list(head):\n",
        "    result = []\n",
        "    while head:\n",
        "        result.append(head.val)\n",
        "        head = head.next\n",
        "    return result\n",
        "\n",
        "def mergeKLists(lists):\n",
        "    min_heap = []\n",
        "    for i, head in enumerate(lists):\n",
        "        if head:\n",
        "            heapq.heappush(min_heap, (head.val, i, head))\n",
        "\n",
        "    dummy = ListNode()\n",
        "    current = dummy\n",
        "\n",
        "    while min_heap:\n",
        "        val, i, node = heapq.heappop(min_heap)\n",
        "        current.next = node\n",
        "        current = current.next\n",
        "        if node.next:\n",
        "            heapq.heappush(min_heap, (node.next.val, i, node.next))\n",
        "\n",
        "    return dummy.next\n",
        "\n",
        "# Test cases\n",
        "lists = [\n",
        "    [1, 4, 5],\n",
        "    [1, 3, 4],\n",
        "    [2, 6]\n",
        "]\n",
        "linked_lists = [list_to_linked_list(lst) for lst in lists]\n",
        "\n",
        "merged_head = mergeKLists(linked_lists)\n",
        "\n",
        "output = linked_list_to_list(merged_head)\n",
        "print(output)\n",
        "\n",
        "# Edge test cases\n",
        "print(linked_list_to_list(mergeKLists([])))  # Output: []\n",
        "print(linked_list_to_list(mergeKLists([[]])))  # Output: []\n",
        "print(linked_list_to_list(mergeKLists([[], list_to_linked_list([1])])))  # Output: [1]\n",
        "print(linked_list_to_list(mergeKLists([\n",
        "    list_to_linked_list([-1, 5, 11]),\n",
        "    list_to_linked_list([]),\n",
        "    list_to_linked_list([6, 10])\n",
        "])))"
      ]
    }
  ]
}